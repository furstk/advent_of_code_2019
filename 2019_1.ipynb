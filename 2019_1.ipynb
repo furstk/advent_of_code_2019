{
 "cells": [
  {
   "cell_type": "markdown",
   "metadata": {},
   "source": [
    "# Day 1: The Tyranny of the Rocket Equation \n",
    "https://adventofcode.com/2019/day/1"
   ]
  },
  {
   "cell_type": "code",
   "execution_count": 1,
   "metadata": {},
   "outputs": [],
   "source": [
    "import pandas as pd\n",
    "import numpy as np\n",
    "module_mass = pd.read_csv('2019_1_input.txt', header = None)\n",
    "module_mass = np.array(module_mass)\n",
    "\n",
    "def function_module_fuel(module):\n",
    "    module = np.floor(module/3)-2   # count fuel consumption\n",
    "    module[module<0] = 0            # correct, fuel can't be negative\n",
    "    fuel_sum = module.sum()         # sum of fuel\n",
    "    return module, fuel_sum"
   ]
  },
  {
   "cell_type": "code",
   "execution_count": 4,
   "metadata": {},
   "outputs": [
    {
     "name": "stdout",
     "output_type": "stream",
     "text": [
      "Fuel sum:  3401852.0\n"
     ]
    }
   ],
   "source": [
    "# Part I\n",
    "module_fuel, fuel_sum = function_module_fuel(module_mass)\n",
    "print('Fuel sum: ', fuel_sum)"
   ]
  },
  {
   "cell_type": "code",
   "execution_count": 5,
   "metadata": {},
   "outputs": [
    {
     "name": "stdout",
     "output_type": "stream",
     "text": [
      "Total fuel required:  5099916.0\n"
     ]
    }
   ],
   "source": [
    "# Part II\n",
    "fuel_sum = 1                # initiate while loop\n",
    "total_fuel = 0              # sum of fuel\n",
    "module_fuel = module_mass   # input data\n",
    "\n",
    "while fuel_sum > 0:\n",
    "    module_fuel, fuel_sum = function_module_fuel(module_fuel)\n",
    "    total_fuel += fuel_sum\n",
    "    \n",
    "print('Total fuel required: ', total_fuel)"
   ]
  }
 ],
 "metadata": {
  "kernelspec": {
   "display_name": "Python 3",
   "language": "python",
   "name": "python3"
  },
  "language_info": {
   "codemirror_mode": {
    "name": "ipython",
    "version": 3
   },
   "file_extension": ".py",
   "mimetype": "text/x-python",
   "name": "python",
   "nbconvert_exporter": "python",
   "pygments_lexer": "ipython3",
   "version": "3.7.1"
  }
 },
 "nbformat": 4,
 "nbformat_minor": 2
}
