{
 "cells": [
  {
   "cell_type": "markdown",
   "metadata": {},
   "source": [
    "# Day 1: The Tyranny of the Rocket Equation \n",
    "\n",
    "Santa has become stranded at the edge of the Solar System while delivering presents to other planets! To accurately \n",
    "calculate his position in space, safely align his warp drive, and return to Earth in time to save Christmas, he needs \n",
    "you to bring him measurements from fifty stars.\n",
    "\n",
    "Collect stars by solving puzzles. Two puzzles will be made available on each day in the Advent calendar; the second \n",
    "puzzle is unlocked when you complete the first. Each puzzle grants one star. Good luck!\n",
    "\n",
    "The Elves quickly load you into a spacecraft and prepare to launch.\n",
    "\n",
    "\n",
    "## Part One\n",
    "At the first Go / No Go poll, every Elf is Go until the Fuel Counter-Upper. They haven't determined the amount of \n",
    "fuel required yet.\n",
    "\n",
    "Fuel required to launch a given module is based on its mass. Specifically, to find the fuel required for a module, \n",
    "take its mass, divide by three, round down, and subtract 2.\n",
    "\n",
    "For example:\n",
    "\n",
    "For a mass of 12, divide by 3 and round down to get 4, then subtract 2 to get 2.\n",
    "For a mass of 14, dividing by 3 and rounding down still yields 4, so the fuel required is also 2.\n",
    "For a mass of 1969, the fuel required is 654.\n",
    "For a mass of 100756, the fuel required is 33583.\n",
    "The Fuel Counter-Upper needs to know the total fuel requirement. To find it, individually calculate the fuel needed for the mass of each module (your puzzle input), then add together all the fuel values.\n",
    "\n",
    "What is the sum of the fuel requirements for all of the modules on your spacecraft?\n",
    "\n",
    "## Part Two \n",
    "\n",
    "During the second Go / No Go poll, the Elf in charge of the Rocket Equation Double-Checker stops the launch sequence.\n",
    "Apparently, you forgot to include additional fuel for the fuel you just added.\n",
    "\n",
    "Fuel itself requires fuel just like a module - take its mass, divide by three, round down, and subtract 2. \n",
    "However, that fuel also requires fuel, and that fuel requires fuel, and so on. Any mass that would require negative \n",
    "fuel should instead be treated as if it requires zero fuel; the remaining mass, if any, is instead handled by \n",
    "wishing really hard, which has no mass and is outside the scope of this calculation.\n",
    "\n",
    "So, for each module mass, calculate its fuel and add it to the total. Then, treat the fuel amount you just calculated \n",
    "as the input mass and repeat the process, continuing until a fuel requirement is zero or negative. For example:\n",
    "\n",
    "A module of mass 14 requires 2 fuel. This fuel requires no further fuel (2 divided by 3 and rounded down is 0, which \n",
    "would call for a negative fuel), so the total fuel required is still just 2.\n",
    "At first, a module of mass 1969 requires 654 fuel. Then, this fuel requires 216 more fuel (654 / 3 - 2). 216 then \n",
    "requires 70 more fuel, which requires 21 fuel, which requires 5 fuel, which requires no further fuel. So, the total \n",
    "fuel required for a module of mass 1969 is 654 + 216 + 70 + 21 + 5 = 966.\n",
    "The fuel required by a module of mass 100756 and its fuel is: \n",
    "    33583 + 11192 + 3728 + 1240 + 411 + 135 + 43 + 12 + 2 = 50346.\n",
    "What is the sum of the fuel requirements for all of the modules on your spacecraft when also taking into account the \n",
    "mass of the added fuel? (Calculate the fuel requirements for each module separately, then add them all up at the end.)"
   ]
  },
  {
   "cell_type": "code",
   "execution_count": 1,
   "metadata": {},
   "outputs": [],
   "source": [
    "import pandas as pd\n",
    "import numpy as np\n",
    "module_mass = pd.read_csv('input_2019_1.txt', header = None)\n",
    "module_mass = np.array(module_mass)\n",
    "\n",
    "def function_module_fuel(module):\n",
    "    module = np.floor(module/3)-2   # count fuel\n",
    "    module[module<0] = 0            # fuel can't be negative\n",
    "    module_sum = module.sum()       # sum of fuel\n",
    "    return module, module_sum"
   ]
  },
  {
   "cell_type": "code",
   "execution_count": 129,
   "metadata": {},
   "outputs": [
    {
     "name": "stdout",
     "output_type": "stream",
     "text": [
      "Fuel sum:  3401852.0\n"
     ]
    }
   ],
   "source": [
    "# Part I\n",
    "module_fuel, fuel_sum = function_module_fuel(module_mass)\n",
    "print('Fuel sum: ', fuel_sum)"
   ]
  },
  {
   "cell_type": "code",
   "execution_count": 127,
   "metadata": {},
   "outputs": [
    {
     "name": "stdout",
     "output_type": "stream",
     "text": [
      "Total fuel required:  5099916.0\n"
     ]
    }
   ],
   "source": [
    "# Part II\n",
    "fuel_sum = 1                # initiate while loop\n",
    "total_fuel = 0              # sum of fuel\n",
    "module_fuel = module_mass   # input data\n",
    "\n",
    "while fuel_sum > 0:\n",
    "    module_fuel, fuel_sum = function_module_fuel(module_fuel)\n",
    "    total_fuel += fuel_sum\n",
    "    \n",
    "print('Total fuel required: ', total_fuel)"
   ]
  }
 ],
 "metadata": {
  "kernelspec": {
   "display_name": "Python 3",
   "language": "python",
   "name": "python3"
  },
  "language_info": {
   "codemirror_mode": {
    "name": "ipython",
    "version": 3
   },
   "file_extension": ".py",
   "mimetype": "text/x-python",
   "name": "python",
   "nbconvert_exporter": "python",
   "pygments_lexer": "ipython3",
   "version": "3.7.1"
  }
 },
 "nbformat": 4,
 "nbformat_minor": 2
}
