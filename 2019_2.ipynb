{
 "cells": [
  {
   "cell_type": "markdown",
   "metadata": {},
   "source": [
    "\n",
    "# Day 2: 1202 Program Alarm\n",
    "https://adventofcode.com/2019/day/2"
   ]
  },
  {
   "cell_type": "code",
   "execution_count": 8,
   "metadata": {},
   "outputs": [],
   "source": [
    "import pandas as pd\n",
    "import numpy as np\n",
    "\n",
    "intcode_input = np.array(pd.read_csv('2019_2_input.txt', header = None))[0]\n",
    "\n",
    "def intcode_program(instruction, input_pair):\n",
    "    instruction[1] = input_pair[0]\n",
    "    instruction[2] = input_pair[1]\n",
    "    \n",
    "    for i in range(0,len(instruction), 4):\n",
    "        opcode    = instruction[i]\n",
    "        loc_pos1  = instruction[i+1]\n",
    "        loc_pos2  = instruction[i+2]\n",
    "        loc_store = instruction[i+3]\n",
    "    \n",
    "        if opcode == 2:\n",
    "            instruction[loc_store] = instruction[loc_pos1] * instruction[loc_pos2]\n",
    "        if opcode == 1:\n",
    "            instruction[loc_store] = instruction[loc_pos1] + instruction[loc_pos2]\n",
    "        if opcode == 99: \n",
    "            address_0 = instruction[0]\n",
    "            noun_verb = 100*instruction[1]+instruction[2]\n",
    "            return address_0, noun_verb"
   ]
  },
  {
   "cell_type": "code",
   "execution_count": 14,
   "metadata": {},
   "outputs": [
    {
     "name": "stdout",
     "output_type": "stream",
     "text": [
      "Value left at position 0: 2890696\n"
     ]
    }
   ],
   "source": [
    "# Part I\n",
    "input_pair = [12,2]\n",
    "address_0, noun_verb= intcode_program(intcode_input.copy(), input_pair)\n",
    "\n",
    "print('Value left at position 0:', address_0)\n"
   ]
  },
  {
   "cell_type": "code",
   "execution_count": 17,
   "metadata": {},
   "outputs": [
    {
     "name": "stdout",
     "output_type": "stream",
     "text": [
      "Noun verb score: 8226\n"
     ]
    }
   ],
   "source": [
    "# Part II\n",
    "x1 = range(0,99); x2 = range(0,99)\n",
    "input_pairs = [[x1[i], x2[j]] for i in x1 for j in x2] # possible input pairs\n",
    "\n",
    "for input_pair in input_pairs:\n",
    "    address_0, noun_verb = intcode_program(intcode_input.copy(), input_pair)\n",
    "    if address_0 == 19690720: break\n",
    "\n",
    "print('Noun verb score:', noun_verb)"
   ]
  }
 ],
 "metadata": {
  "kernelspec": {
   "display_name": "Python 3",
   "language": "python",
   "name": "python3"
  },
  "language_info": {
   "codemirror_mode": {
    "name": "ipython",
    "version": 3
   },
   "file_extension": ".py",
   "mimetype": "text/x-python",
   "name": "python",
   "nbconvert_exporter": "python",
   "pygments_lexer": "ipython3",
   "version": "3.7.1"
  }
 },
 "nbformat": 4,
 "nbformat_minor": 2
}
