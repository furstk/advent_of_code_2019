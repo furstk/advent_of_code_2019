{
 "cells": [
  {
   "cell_type": "markdown",
   "metadata": {},
   "source": [
    "# Day 4: Secure Container\n",
    "https://adventofcode.com/2019/day/4"
   ]
  },
  {
   "cell_type": "code",
   "execution_count": 1,
   "metadata": {
    "ExecuteTime": {
     "end_time": "2019-12-04T13:51:03.542124Z",
     "start_time": "2019-12-04T13:51:02.362829Z"
    }
   },
   "outputs": [],
   "source": [
    "import numpy as np\n",
    "password_list = np.arange(123257,647015).astype(str)\n",
    "password_digits = np.array([[int(digit) for digit in password] for password in password_list])"
   ]
  },
  {
   "cell_type": "code",
   "execution_count": 2,
   "metadata": {
    "ExecuteTime": {
     "end_time": "2019-12-04T13:51:03.665466Z",
     "start_time": "2019-12-04T13:51:03.624906Z"
    }
   },
   "outputs": [
    {
     "name": "stdout",
     "output_type": "stream",
     "text": [
      "number of possible passwords (part I): 2220\n"
     ]
    }
   ],
   "source": [
    "# Part I\n",
    "double_values = (np.prod(np.diff(password_digits),axis=1)==0)\n",
    "password_digits = password_digits[double_values]\n",
    "increasing_values = (password_digits[:,0] <= password_digits[:,1]) & (password_digits[:,1] <= password_digits[:,2]) & (password_digits[:,2] <= password_digits[:,3]) & (password_digits[:,3] <= password_digits[:,4]) & (password_digits[:,4] <= password_digits[:,5])    \n",
    "password_digits = password_digits[increasing_values]\n",
    "print('number of possible passwords (part I):', np.shape(password_digits)[0])"
   ]
  },
  {
   "cell_type": "code",
   "execution_count": 3,
   "metadata": {
    "ExecuteTime": {
     "end_time": "2019-12-04T13:51:04.214735Z",
     "start_time": "2019-12-04T13:51:04.181991Z"
    }
   },
   "outputs": [
    {
     "name": "stdout",
     "output_type": "stream",
     "text": [
      "number of possible passwords (part II): 1515\n"
     ]
    }
   ],
   "source": [
    "# Part II\n",
    "double = np.diff(password_digits)\n",
    "condition_pos0 =                      (double[:,0] == 0) & (double[:,1] != 0)\n",
    "condition_pos1 = (double[:,0] != 0) & (double[:,1] == 0) & (double[:,2] != 0)\n",
    "condition_pos2 = (double[:,1] != 0) & (double[:,2] == 0) & (double[:,3] != 0)\n",
    "condition_pos3 = (double[:,2] != 0) & (double[:,3] == 0) & (double[:,4] != 0)\n",
    "condition_pos4 = (double[:,3] != 0) & (double[:,4] == 0) \n",
    "print('number of possible passwords (part II):', (condition_pos0+condition_pos1+condition_pos2+condition_pos3+condition_pos4).sum())"
   ]
  }
 ],
 "metadata": {
  "hide_input": false,
  "kernelspec": {
   "display_name": "Python 3",
   "language": "python",
   "name": "python3"
  },
  "language_info": {
   "codemirror_mode": {
    "name": "ipython",
    "version": 3
   },
   "file_extension": ".py",
   "mimetype": "text/x-python",
   "name": "python",
   "nbconvert_exporter": "python",
   "pygments_lexer": "ipython3",
   "version": "3.7.1"
  },
  "latex_envs": {
   "LaTeX_envs_menu_present": true,
   "autoclose": false,
   "autocomplete": true,
   "bibliofile": "biblio.bib",
   "cite_by": "apalike",
   "current_citInitial": 1,
   "eqLabelWithNumbers": true,
   "eqNumInitial": 1,
   "hotkeys": {
    "equation": "Ctrl-E",
    "itemize": "Ctrl-I"
   },
   "labels_anchors": false,
   "latex_user_defs": false,
   "report_style_numbering": false,
   "user_envs_cfg": false
  },
  "toc": {
   "base_numbering": 1,
   "nav_menu": {},
   "number_sections": true,
   "sideBar": true,
   "skip_h1_title": false,
   "title_cell": "Table of Contents",
   "title_sidebar": "Contents",
   "toc_cell": false,
   "toc_position": {},
   "toc_section_display": true,
   "toc_window_display": false
  },
  "varInspector": {
   "cols": {
    "lenName": 16,
    "lenType": 16,
    "lenVar": 40
   },
   "kernels_config": {
    "python": {
     "delete_cmd_postfix": "",
     "delete_cmd_prefix": "del ",
     "library": "var_list.py",
     "varRefreshCmd": "print(var_dic_list())"
    },
    "r": {
     "delete_cmd_postfix": ") ",
     "delete_cmd_prefix": "rm(",
     "library": "var_list.r",
     "varRefreshCmd": "cat(var_dic_list()) "
    }
   },
   "types_to_exclude": [
    "module",
    "function",
    "builtin_function_or_method",
    "instance",
    "_Feature"
   ],
   "window_display": false
  }
 },
 "nbformat": 4,
 "nbformat_minor": 2
}
