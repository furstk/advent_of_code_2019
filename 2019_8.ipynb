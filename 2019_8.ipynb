{
 "cells": [
  {
   "cell_type": "markdown",
   "metadata": {},
   "source": [
    "# Day 8: Space Image Format\n",
    "https://adventofcode.com/2019/day/8"
   ]
  },
  {
   "cell_type": "code",
   "execution_count": 1,
   "metadata": {},
   "outputs": [],
   "source": [
    "import numpy as np\n",
    "import pandas as pd\n",
    "import matplotlib.pyplot as plt"
   ]
  },
  {
   "cell_type": "code",
   "execution_count": 2,
   "metadata": {},
   "outputs": [],
   "source": [
    "pixels = list(np.array(pd.read_csv('2019_8_input.txt', header = None))[0][0])\n",
    "\n",
    "width = 25\n",
    "height = 6\n",
    "pixels_per_layer = width*height                    # pixels per layer\n",
    "\n",
    "layers = []\n",
    "i = 0\n",
    "while i < len(pixels):\n",
    "    layers.append(pixels[i:i+pixels_per_layer])\n",
    "    i += pixels_per_layer\n",
    "layers = np.array(layers).astype(np.int)"
   ]
  },
  {
   "cell_type": "code",
   "execution_count": 3,
   "metadata": {},
   "outputs": [
    {
     "name": "stdout",
     "output_type": "stream",
     "text": [
      "sum(pix==1)*sum(pix==2) = 2064\n"
     ]
    }
   ],
   "source": [
    "# Part I\n",
    "index = np.argmin(np.isin(layers,0).sum(axis=1))   # layer with the minimum number of zeros\n",
    "print('sum(pix==1)*sum(pix==2) =', (layers[index]==2).sum()*(layers[index]==1).sum())"
   ]
  },
  {
   "cell_type": "code",
   "execution_count": 4,
   "metadata": {},
   "outputs": [
    {
     "data": {
      "image/png": "[encoded data removed]",
      "text/plain": [
       "<Figure size 432x288 with 1 Axes>"
      ]
     },
     "metadata": {
      "needs_background": "light"
     },
     "output_type": "display_data"
    }
   ],
   "source": [
    "# Part II\n",
    "picture = []\n",
    "for i in range(0,pixels_per_layer):\n",
    "    white_pixles = np.argwhere(layers[:,i]==1)\n",
    "    black_pixles = np.argwhere(layers[:,i]==0)\n",
    "    if len(white_pixles) > 0 and len(black_pixles) > 0:\n",
    "        if white_pixles.min() <  black_pixles.min():\n",
    "            picture.append(1)\n",
    "        else:\n",
    "            picture.append(0)\n",
    "    elif len(white_pixles) > 0:\n",
    "        picture.append(1)\n",
    "    else:\n",
    "        picture.append(0)\n",
    "        \n",
    "picture = np.reshape(picture, (height,width))\n",
    "plt.imshow(picture);"
   ]
  }
 ],
 "metadata": {
  "kernelspec": {
   "display_name": "Python 3",
   "language": "python",
   "name": "python3"
  },
  "language_info": {
   "codemirror_mode": {
    "name": "ipython",
    "version": 3
   },
   "file_extension": ".py",
   "mimetype": "text/x-python",
   "name": "python",
   "nbconvert_exporter": "python",
   "pygments_lexer": "ipython3",
   "version": "3.7.1"
  }
 },
 "nbformat": 4,
 "nbformat_minor": 2
}
